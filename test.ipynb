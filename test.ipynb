{
 "cells": [
  {
   "cell_type": "code",
   "execution_count": 1,
   "metadata": {},
   "outputs": [],
   "source": [
    "from langchain.document_loaders import PyPDFDirectoryLoader\n",
    "from langchain.text_splitter import RecursiveCharacterTextSplitter\n",
    "from langchain.embeddings.openai import OpenAIEmbeddings\n",
    "from langchain.llms import OpenAI\n",
    "from langchain.chains.question_answering import load_qa_chain\n",
    "from dotenv import load_dotenv\n",
    "load_dotenv()\n",
    "import os"
   ]
  },
  {
   "cell_type": "code",
   "execution_count": 2,
   "metadata": {},
   "outputs": [],
   "source": [
    "## read document\n",
    "def read_doc(directory):\n",
    "    file_loader=PyPDFDirectoryLoader(directory)\n",
    "    documents=file_loader.load()\n",
    "    return documents\n",
    "\n",
    "## divide docs into chunks\n",
    "def chunk_data(docs,chunk_size=800,chunk_overlap=50):\n",
    "    text_splitter=RecursiveCharacterTextSplitter(chunk_size=chunk_size,chunk_overlap=chunk_overlap)\n",
    "    doc=text_splitter.split_documents(docs)\n",
    "    return docs"
   ]
  },
  {
   "cell_type": "code",
   "execution_count": 3,
   "metadata": {},
   "outputs": [
    {
     "data": {
      "text/plain": [
       "104"
      ]
     },
     "execution_count": 3,
     "metadata": {},
     "output_type": "execute_result"
    }
   ],
   "source": [
    "doc=read_doc('documents/')\n",
    "len(doc)"
   ]
  },
  {
   "cell_type": "code",
   "execution_count": 4,
   "metadata": {},
   "outputs": [
    {
     "data": {
      "text/plain": [
       "104"
      ]
     },
     "execution_count": 4,
     "metadata": {},
     "output_type": "execute_result"
    }
   ],
   "source": [
    "documents=chunk_data(docs=doc)\n",
    "len(documents)"
   ]
  },
  {
   "cell_type": "code",
   "execution_count": 5,
   "metadata": {},
   "outputs": [
    {
     "name": "stderr",
     "output_type": "stream",
     "text": [
      "/Users/rafi/Projects/langchain-proj/venv/lib/python3.11/site-packages/langchain_core/_api/deprecation.py:117: LangChainDeprecationWarning: The class `langchain_community.embeddings.openai.OpenAIEmbeddings` was deprecated in langchain-community 0.1.0 and will be removed in 0.2.0. An updated version of the class exists in the langchain-openai package and should be used instead. To use it run `pip install -U langchain-openai` and import as `from langchain_openai import OpenAIEmbeddings`.\n",
      "  warn_deprecated(\n"
     ]
    },
    {
     "data": {
      "text/plain": [
       "1536"
      ]
     },
     "execution_count": 5,
     "metadata": {},
     "output_type": "execute_result"
    }
   ],
   "source": [
    "embeddings=OpenAIEmbeddings(api_key=os.environ['OPENAI_API_KEY'])\n",
    "vectors=embeddings.embed_query(\"What's up\")\n",
    "len(vectors)"
   ]
  },
  {
   "cell_type": "code",
   "execution_count": 6,
   "metadata": {},
   "outputs": [],
   "source": [
    "from pinecone import Pinecone\n",
    "## Vector Search DB in Pinecone\n",
    "pinecone_client=Pinecone(\n",
    "    api_key=os.environ['PINECONE_API_KEY'],\n",
    "    environment=\"gcp-starter\"\n",
    ")\n",
    "index_name=\"langchainvector\""
   ]
  },
  {
   "cell_type": "code",
   "execution_count": 7,
   "metadata": {},
   "outputs": [],
   "source": [
    "from langchain.vectorstores import Pinecone as PineconeDB\n",
    "index=PineconeDB.from_documents(doc, embeddings, index_name=index_name)"
   ]
  },
  {
   "cell_type": "code",
   "execution_count": 8,
   "metadata": {},
   "outputs": [],
   "source": [
    "## Cosine Similarity Retrieve Results\n",
    "def retrieve_query(query, k=2):\n",
    "    matching_results=index.similarity_search(query,k=k)\n",
    "    return matching_results"
   ]
  },
  {
   "cell_type": "code",
   "execution_count": 9,
   "metadata": {},
   "outputs": [
    {
     "name": "stderr",
     "output_type": "stream",
     "text": [
      "/Users/rafi/Projects/langchain-proj/venv/lib/python3.11/site-packages/langchain_core/_api/deprecation.py:117: LangChainDeprecationWarning: The class `langchain_community.chat_models.openai.ChatOpenAI` was deprecated in langchain-community 0.0.10 and will be removed in 0.2.0. An updated version of the class exists in the langchain-openai package and should be used instead. To use it run `pip install -U langchain-openai` and import as `from langchain_openai import ChatOpenAI`.\n",
      "  warn_deprecated(\n"
     ]
    }
   ],
   "source": [
    "from langchain.chat_models import ChatOpenAI\n",
    "llm=ChatOpenAI(model_name=\"gpt-4-0125-preview\",temperature=0.5)\n",
    "chain=load_qa_chain(llm,chain_type=\"stuff\")"
   ]
  },
  {
   "cell_type": "code",
   "execution_count": 10,
   "metadata": {},
   "outputs": [],
   "source": [
    "## Search answers from VectorDB\n",
    "def retrieve_answers(query):\n",
    "    doc_search=retrieve_query(query)\n",
    "    print(doc_search)\n",
    "    response=chain.run(input_documents=doc_search,question=query)\n",
    "    return response"
   ]
  },
  {
   "cell_type": "code",
   "execution_count": 12,
   "metadata": {},
   "outputs": [
    {
     "name": "stdout",
     "output_type": "stream",
     "text": [
      "[Document(page_content='JEFF NIPPARD  FUNDAMENTALS HYPERTROPHY PROGRAM12\\nFUNCTIONAL ANATOMY\\nIt is important to understand the functional anatomy and biomechanics of the \\nmain muscles we’ll be targeting before we can understand how to best train them. \\nFunctional anatomy determines what muscles can do. There are two things to \\nconsider when looking at a muscle’s functional anatomy – its origin and insertion. \\nMuscles attach to bone by tendons from at least two points. The origin is the fixed \\nattachment which does not move and the insertion is the attachment which moves \\ncloser to the origin when a muscle contracts. This is the contracting phase, referred \\nto as the concentric phase (also known as the “positive” phase), which is normally \\nfollowed by the eccentric phase (lowering the weight – also known as the “negative” \\nphase).\\nQUADRICEPS: The quadriceps (“quads” for short) are \\ncomprised of four muscles, often referred to as “heads”: \\nthe vastus lateralis (“quad sweep”), vastus medialis (“tear \\ndrop”), rectus femoris (the middle portion of your upper \\nthigh), and vastus intermedius (which runs underneath the \\nrectus femoris). The quads act to extend the knee, taking \\nthe leg from a bent position to a straight position. Each \\nmuscle of the quad has its own unique insertion which we \\nwon’t worry about too much here. Just remember that the \\nmain action of the quads is to extend (straighten) the knee.\\n \\nORIGIN: The vasti muscles originate on the body of femur \\n(“thigh bone”). The rectus femoris originates on the illium \\nof the “hip bone”\\nINSERTION: Tibial tuberosity\\nEXERCISES: Squat, walking lunge, leg extension\\nFigure 3: Quadriceps Anatomy ', metadata={'page': 11.0, 'source': 'documents/Fundamentals_Hypertrophy_Program.pdf'}), Document(page_content='JEFF NIPPARD  FUNDAMENTALS HYPERTROPHY PROGRAM12\\nFUNCTIONAL ANATOMY\\nIt is important to understand the functional anatomy and biomechanics of the \\nmain muscles we’ll be targeting before we can understand how to best train them. \\nFunctional anatomy determines what muscles can do. There are two things to \\nconsider when looking at a muscle’s functional anatomy – its origin and insertion. \\nMuscles attach to bone by tendons from at least two points. The origin is the fixed \\nattachment which does not move and the insertion is the attachment which moves \\ncloser to the origin when a muscle contracts. This is the contracting phase, referred \\nto as the concentric phase (also known as the “positive” phase), which is normally \\nfollowed by the eccentric phase (lowering the weight – also known as the “negative” \\nphase).\\nQUADRICEPS: The quadriceps (“quads” for short) are \\ncomprised of four muscles, often referred to as “heads”: \\nthe vastus lateralis (“quad sweep”), vastus medialis (“tear \\ndrop”), rectus femoris (the middle portion of your upper \\nthigh), and vastus intermedius (which runs underneath the \\nrectus femoris). The quads act to extend the knee, taking \\nthe leg from a bent position to a straight position. Each \\nmuscle of the quad has its own unique insertion which we \\nwon’t worry about too much here. Just remember that the \\nmain action of the quads is to extend (straighten) the knee.\\n \\nORIGIN: The vasti muscles originate on the body of femur \\n(“thigh bone”). The rectus femoris originates on the illium \\nof the “hip bone”\\nINSERTION: Tibial tuberosity\\nEXERCISES: Squat, walking lunge, leg extension\\nFigure 3: Quadriceps Anatomy ', metadata={'page': 11.0, 'source': 'documents/Fundamentals_Hypertrophy_Program.pdf'})]\n",
      "Hypertrophy refers to the increase in the size of an organ or tissue through the enlargement of its cells. In the context of fitness and bodybuilding, hypertrophy specifically refers to muscle hypertrophy, which is the growth of muscle cells as a result of strength training or resistance training. This process involves both an increase in the size of muscle fibers (cells) and, to a lesser extent, an increase in the number of muscle fibers. The goal of hypertrophy training is to stimulate muscle growth, improving muscle mass and strength.\n",
      "\n",
      "The \"quads,\" short for quadriceps, are a group of four muscles located at the front of the thigh. These muscles are responsible for extending the knee, essentially taking the leg from a bent position to a straight position. The quadriceps are comprised of the following four muscles:\n",
      "\n",
      "1. **Vastus Lateralis** - Often referred to as the \"quad sweep,\" it is located on the outer side of the thigh.\n",
      "2. **Vastus Medialis** - Known as the \"teardrop\" muscle, it is located on the inner part of the thigh just above the knee.\n",
      "3. **Rectus Femoris** - This is the middle portion of your upper thigh, running down the center of the thigh.\n",
      "4. **Vastus Intermedius** - Located underneath the rectus femoris, it is not visible from the surface.\n",
      "\n",
      "The main action of the quads is to extend (straighten) the knee. Exercises that target the quadriceps include squats, walking lunges, and leg extensions. Understanding the functional anatomy of the quadriceps, including their origin and insertion points, is crucial for effectively training these muscles to achieve hypertrophy.\n"
     ]
    }
   ],
   "source": [
    "our_query = \"What is hypertrophy and what are the quads?\"\n",
    "answer = retrieve_answers(our_query)\n",
    "print(answer)"
   ]
  },
  {
   "cell_type": "code",
   "execution_count": 13,
   "metadata": {},
   "outputs": [
    {
     "name": "stdout",
     "output_type": "stream",
     "text": [
      "[Document(page_content='JEFF NIPPARD  FUNDAMENTALS HYPERTROPHY PROGRAM5\\nABOUT ME\\nJeff is a professional drug-free bodybuilder and powerlifter. Through his science-\\nbased Youtube channel which has gathered an audience of millions of subscribers, \\nJeff aims to share the knowledge he has gathered through university education and \\nfield experience with others who are passionate about the science behind building \\nmuscle, losing fat and getting healthier.\\nHe earned the title of Mr. Junior Canada for natural bodybuilding in 2012 and as a \\npowerlifter, Jeff held the Canadian national record for the bench press in 2014. As a \\npowerlifter, Jeff has claimed a 502 lb squat, 336 lb bench press and a 518 lb deadlift \\nwith an all time best Wilks score of 446.', metadata={'page': 4.0, 'source': 'documents/Fundamentals_Hypertrophy_Program.pdf'}), Document(page_content='JEFF NIPPARD  FUNDAMENTALS HYPERTROPHY PROGRAM5\\nABOUT ME\\nJeff is a professional drug-free bodybuilder and powerlifter. Through his science-\\nbased Youtube channel which has gathered an audience of millions of subscribers, \\nJeff aims to share the knowledge he has gathered through university education and \\nfield experience with others who are passionate about the science behind building \\nmuscle, losing fat and getting healthier.\\nHe earned the title of Mr. Junior Canada for natural bodybuilding in 2012 and as a \\npowerlifter, Jeff held the Canadian national record for the bench press in 2014. As a \\npowerlifter, Jeff has claimed a 502 lb squat, 336 lb bench press and a 518 lb deadlift \\nwith an all time best Wilks score of 446.', metadata={'page': 4.0, 'source': 'documents/Fundamentals_Hypertrophy_Program.pdf'})]\n",
      "Jeff Nippard is a professional drug-free bodybuilder and powerlifter known for his science-based approach to fitness and bodybuilding. He shares his knowledge and experience through his YouTube channel, which has attracted millions of subscribers. Jeff's educational background in university and his field experience have equipped him to provide insights into building muscle, losing fat, and improving overall health.\n",
      "\n",
      "In his competitive career, Jeff achieved significant milestones. He won the title of Mr. Junior Canada in natural bodybuilding in 2012. As a powerlifter, he held the Canadian national record for the bench press in 2014. Jeff has impressive personal records, including a 502 lb squat, a 336 lb bench press, and a 518 lb deadlift. His all-time best Wilks score is 446, highlighting his strength and performance in powerlifting. Jeff is passionate about sharing his expertise and helping others achieve their fitness goals through a scientific approach.\n"
     ]
    }
   ],
   "source": [
    "our_query = \"Can you tell me about Jeff Nippard's background?\"\n",
    "answer = retrieve_answers(our_query)\n",
    "print(answer)"
   ]
  }
 ],
 "metadata": {
  "kernelspec": {
   "display_name": "venv",
   "language": "python",
   "name": "python3"
  },
  "language_info": {
   "codemirror_mode": {
    "name": "ipython",
    "version": 3
   },
   "file_extension": ".py",
   "mimetype": "text/x-python",
   "name": "python",
   "nbconvert_exporter": "python",
   "pygments_lexer": "ipython3",
   "version": "3.11.2"
  }
 },
 "nbformat": 4,
 "nbformat_minor": 2
}
